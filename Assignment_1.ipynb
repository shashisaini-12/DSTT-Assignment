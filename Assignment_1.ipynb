{
  "nbformat": 4,
  "nbformat_minor": 0,
  "metadata": {
    "colab": {
      "provenance": [],
      "authorship_tag": "ABX9TyMccmSOycaUX2cNw57Q8wwH",
      "include_colab_link": true
    },
    "kernelspec": {
      "name": "python3",
      "display_name": "Python 3"
    },
    "language_info": {
      "name": "python"
    }
  },
  "cells": [
    {
      "cell_type": "markdown",
      "metadata": {
        "id": "view-in-github",
        "colab_type": "text"
      },
      "source": [
        "<a href=\"https://colab.research.google.com/github/shashisaini-12/DSTT-Assignment/blob/main/Assignment_1.ipynb\" target=\"_parent\"><img src=\"https://colab.research.google.com/assets/colab-badge.svg\" alt=\"Open In Colab\"/></a>"
      ]
    },
    {
      "cell_type": "markdown",
      "source": [
        "Name : Shashi Saini   \n",
        "Reg No. 22-14-04\n",
        "\n",
        "Branch - Modelling & Simulation"
      ],
      "metadata": {
        "id": "VYFE7BRbREeb"
      }
    },
    {
      "cell_type": "markdown",
      "source": [
        "Question 1"
      ],
      "metadata": {
        "id": "FFm5XhEJRxRZ"
      }
    },
    {
      "cell_type": "code",
      "execution_count": null,
      "metadata": {
        "colab": {
          "base_uri": "https://localhost:8080/"
        },
        "id": "Jk3o0OJdQ_T3",
        "outputId": "b83992fd-7df7-400d-c1b7-58c5adab4ecf"
      },
      "outputs": [
        {
          "output_type": "stream",
          "name": "stdout",
          "text": [
            "4\n",
            "1 2 3 4\n",
            "4 6 6 4\n"
          ]
        }
      ],
      "source": [
        "n = int(input())\n",
        "A = [int(i) for i in input().split(\" \")]\n",
        "B = []\n",
        "for k in range(len(A)-1,-1,-1):\n",
        "    B.append(A[k])\n",
        "c=[]\n",
        "for j in range(0,len(A)):\n",
        "    a = A[j]*B[j]\n",
        "    c.append(a)\n",
        "print(*c)"
      ]
    },
    {
      "cell_type": "markdown",
      "source": [
        "Question 2"
      ],
      "metadata": {
        "id": "PpERWr-5R7zc"
      }
    },
    {
      "cell_type": "code",
      "source": [
        "l = [int(i) for i in input().split(\" \")]\n",
        "a = max(l)\n",
        "b = min(l)\n",
        "l1 = [i for i in l if i!= a]\n",
        "l2 = [i for i in l if i!= b]\n",
        "a1 = max(l1)\n",
        "b1 = min(l2)\n",
        "print(a1,b1)"
      ],
      "metadata": {
        "colab": {
          "base_uri": "https://localhost:8080/"
        },
        "id": "6LdQmlgCR-3_",
        "outputId": "022bfe36-4c18-41e9-e0c5-bf3a95a77b99"
      },
      "execution_count": null,
      "outputs": [
        {
          "output_type": "stream",
          "name": "stdout",
          "text": [
            "1 4 8 6\n",
            "6 4\n"
          ]
        }
      ]
    },
    {
      "cell_type": "markdown",
      "source": [
        "Question 3"
      ],
      "metadata": {
        "id": "5QI0RFp-SFTS"
      }
    },
    {
      "cell_type": "code",
      "source": [
        "l = [int(i) for i in input().split(\" \")]\n",
        "z = [k for k in l if k%5 != 0]\n",
        "print(*z)\n"
      ],
      "metadata": {
        "colab": {
          "base_uri": "https://localhost:8080/"
        },
        "id": "W36mmMmUSG9r",
        "outputId": "b00cced3-e98b-4136-843d-69c47c40021a"
      },
      "execution_count": null,
      "outputs": [
        {
          "output_type": "stream",
          "name": "stdout",
          "text": [
            "5 10 15 20 8 9 7\n",
            "8 9 7\n"
          ]
        }
      ]
    },
    {
      "cell_type": "markdown",
      "source": [
        "Question 4"
      ],
      "metadata": {
        "id": "5g40GHK2SLGq"
      }
    },
    {
      "cell_type": "code",
      "source": [
        "n = input()\n",
        "a = n.count(\"1\")\n",
        "b = n.count(\"0\")\n",
        "if a == 1 or b==1:\n",
        "    print(\"YES\")\n",
        "else :\n",
        "    print(\"NO\")"
      ],
      "metadata": {
        "colab": {
          "base_uri": "https://localhost:8080/"
        },
        "id": "IbNo5qpaSNsF",
        "outputId": "960e8235-4e8f-4193-9361-944f6f1979e3"
      },
      "execution_count": null,
      "outputs": [
        {
          "output_type": "stream",
          "name": "stdout",
          "text": [
            "001\n",
            "YES\n"
          ]
        }
      ]
    },
    {
      "cell_type": "markdown",
      "source": [
        "Question 5"
      ],
      "metadata": {
        "id": "Boql2p5DSUJ3"
      }
    },
    {
      "cell_type": "code",
      "source": [
        "n = int(input())\n",
        "def fac(n):\n",
        "    if n<0 :\n",
        "        return 'Factorial not possible'\n",
        "    if n in [0, 1]:\n",
        "        return 1\n",
        "    else :\n",
        "        return n*fac(n-1)\n",
        "print(fac(n))"
      ],
      "metadata": {
        "colab": {
          "base_uri": "https://localhost:8080/"
        },
        "id": "1PmOBV6-ST28",
        "outputId": "765672a7-502d-4e41-a060-91e2ef9d09db"
      },
      "execution_count": null,
      "outputs": [
        {
          "output_type": "stream",
          "name": "stdout",
          "text": [
            "0\n",
            "1\n"
          ]
        }
      ]
    },
    {
      "cell_type": "markdown",
      "source": [
        "Question 6"
      ],
      "metadata": {
        "id": "ODJ7XIKlSgTs"
      }
    },
    {
      "cell_type": "code",
      "source": [
        "l = [int(i) for i in input().split(\" \")]\n",
        "x = [\"0\", \"2\", \"4\", \"6\", \"8\"]\n",
        "d = []\n",
        "for a in range(l[0], l[1]+1):\n",
        "    b = str(a)\n",
        "    for i in range (len(b)):\n",
        "        if b[i] in x :\n",
        "            c = 1\n",
        "        else :\n",
        "            c= 0\n",
        "        if c ==0:\n",
        "            break\n",
        "    if c ==1:\n",
        "        d.append(a)\n",
        "print(*d, sep=\",\") "
      ],
      "metadata": {
        "colab": {
          "base_uri": "https://localhost:8080/"
        },
        "id": "oObHzN7BSiys",
        "outputId": "a37646e5-733b-4d1f-eeb6-8413cf896b71"
      },
      "execution_count": null,
      "outputs": [
        {
          "output_type": "stream",
          "name": "stdout",
          "text": [
            "2 2005\n",
            "2,4,6,8,20,22,24,26,28,40,42,44,46,48,60,62,64,66,68,80,82,84,86,88,200,202,204,206,208,220,222,224,226,228,240,242,244,246,248,260,262,264,266,268,280,282,284,286,288,400,402,404,406,408,420,422,424,426,428,440,442,444,446,448,460,462,464,466,468,480,482,484,486,488,600,602,604,606,608,620,622,624,626,628,640,642,644,646,648,660,662,664,666,668,680,682,684,686,688,800,802,804,806,808,820,822,824,826,828,840,842,844,846,848,860,862,864,866,868,880,882,884,886,888,2000,2002,2004\n"
          ]
        }
      ]
    }
  ]
}